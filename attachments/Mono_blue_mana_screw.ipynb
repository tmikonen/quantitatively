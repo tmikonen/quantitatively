{
 "cells": [
  {
   "cell_type": "code",
   "execution_count": 1,
   "metadata": {},
   "outputs": [],
   "source": [
    "import numpy as np\n",
    "import matplotlib\n",
    "import matplotlib.pyplot as plt\n",
    "import time\n",
    "from scipy.ndimage import zoom\n",
    "%matplotlib inline"
   ]
  },
  {
   "cell_type": "markdown",
   "metadata": {},
   "source": [
    "# Functions"
   ]
  },
  {
   "cell_type": "code",
   "execution_count": 2,
   "metadata": {},
   "outputs": [],
   "source": [
    "def create_deck(n_cards):\n",
    "    deck = np.zeros(np.sum(n_cards))\n",
    "    for i in range(len(n_cards)):\n",
    "        deck[np.sum(n_cards[0:i]):np.sum(n_cards[0:i+1])] = i\n",
    "    np.random.shuffle(deck)\n",
    "    return deck\n",
    "\n",
    "def draw(hand, deck, n):\n",
    "    hand = np.append(hand,deck[range(n)])\n",
    "    deck = np.delete(deck,range(n))\n",
    "    return (hand, deck)\n",
    "\n",
    "def top_to_bottom(deck):\n",
    "    temp = deck[0]\n",
    "    deck[0:len(deck)-1] = deck[1:len(deck)]\n",
    "    deck[-1] = temp\n",
    "    return deck\n",
    "\n",
    "def try_to_play_island(hand, nIslandsInPlay):\n",
    "    ind = np.where(hand == 1)[0]\n",
    "    if len(ind) > 0 :\n",
    "        nIslandsInPlay += 1\n",
    "        hand = np.delete(hand,ind[0])\n",
    "    return (hand, nIslandsInPlay)\n",
    "\n",
    "def try_to_use_strip_mine(opHand, nIslandsInPlay):\n",
    "    ind = np.where(opHand == 1)[0]\n",
    "    if len(ind) > 0 and nIslandsInPlay > 0 :\n",
    "        nIslandsInPlay -= 1\n",
    "        opHand = np.delete(opHand,ind[0])\n",
    "    return (opHand, nIslandsInPlay)\n",
    "\n",
    "def is_mana_screwed(my_hand, nIslandsInPlay):\n",
    "    if nIslandsInPlay < 2 and len(np.where(my_hand == 2)[0]) > 0:\n",
    "        return True\n",
    "    else:\n",
    "        return False\n",
    "\n",
    "def play_games(n_games, max_turns, nc, ncOp, is_on_the_draw, allow_mulligan):\n",
    "    p_mana_screwed_on_turn = np.zeros(max_turns)\n",
    "    n_islands_after_turn = np.zeros(max_turns)\n",
    "    for i in range(n_games):\n",
    "        nIslandsInPlay = 0\n",
    "\n",
    "        my_deck = create_deck(nc)\n",
    "        my_hand = np.empty(0)\n",
    "        op_deck = create_deck(ncOp)\n",
    "        op_hand = np.empty(0)\n",
    "\n",
    "        #starting hand\n",
    "        start_hand_size = 7\n",
    "        (my_hand, my_deck) = draw(my_hand,my_deck,start_hand_size)\n",
    "        # mulligan logic \n",
    "        while (allow_mulligan and (len(np.where(my_hand == 1)[0]) < 1 or len(np.where(my_hand == 1)[0]) + len(np.where(my_hand == 3)[0]) < 2) and start_hand_size > 4):\n",
    "            my_deck = create_deck(nc)\n",
    "            my_hand = np.empty(0)\n",
    "            start_hand_size -= 1\n",
    "            (my_hand, my_deck) = draw(my_hand,my_deck,start_hand_size)\n",
    "        if start_hand_size < 7:\n",
    "            # scry 1\n",
    "            if (len(np.where(my_hand == 1)[0]) + len(np.where(my_hand == 3)[0]) < 3):\n",
    "                if my_deck[0] != 1 :\n",
    "                    my_deck = np.roll(my_deck, -1)\n",
    "            else :\n",
    "                if my_deck[0] == 1 :\n",
    "                    my_deck = np.roll(my_deck, -1)\n",
    "        \n",
    "        #let's say the opponent doesn't mulligan\n",
    "        #-indifferent towards having strip mines in starting hand\n",
    "\n",
    "\n",
    "        #start taking turns\n",
    "        for i_turn in range(max_turns):\n",
    "            \n",
    "            if is_on_the_draw:\n",
    "                \n",
    "                if i_turn > 0:\n",
    "                    (op_hand, op_deck) = draw(op_hand,op_deck,1)\n",
    "                (op_hand, nIslandsInPlay) = try_to_use_strip_mine(op_hand, nIslandsInPlay)\n",
    "                (my_hand, my_deck) = draw(my_hand,my_deck,1)\n",
    "                (my_hand, nIslandsInPlay) = try_to_play_island(my_hand, nIslandsInPlay)\n",
    "                if(is_mana_screwed(my_hand, nIslandsInPlay)):\n",
    "                    p_mana_screwed_on_turn[i_turn] += 1.\n",
    "                n_islands_after_turn[i_turn] += nIslandsInPlay\n",
    "\n",
    "            else:\n",
    "            \n",
    "                if i_turn > 0:\n",
    "                    (my_hand, my_deck) = draw(my_hand,my_deck,1)\n",
    "                (my_hand, nIslandsInPlay) = try_to_play_island(my_hand, nIslandsInPlay)\n",
    "                if(is_mana_screwed(my_hand, nIslandsInPlay)):\n",
    "                    p_mana_screwed_on_turn[i_turn] += 1.\n",
    "                (op_hand, op_deck) = draw(op_hand,op_deck,1)\n",
    "                (op_hand, nIslandsInPlay) = try_to_use_strip_mine(op_hand, nIslandsInPlay)\n",
    "                n_islands_after_turn[i_turn] += nIslandsInPlay\n",
    "    \n",
    "    p_mana_screwed_on_turn /= n_games\n",
    "    n_islands_after_turn /= n_games\n",
    "    return (p_mana_screwed_on_turn, n_islands_after_turn)\n",
    "\n"
   ]
  },
  {
   "cell_type": "markdown",
   "metadata": {},
   "source": [
    "# EC, on the play"
   ]
  },
  {
   "cell_type": "code",
   "execution_count": 3,
   "metadata": {},
   "outputs": [
    {
     "name": "stdout",
     "output_type": "stream",
     "text": [
      "P_mana_screw:\n",
      "[0.76828 0.21307 0.16746 0.14579 0.1278  0.11226]\n",
      "N_islands\n",
      "[0.92911 1.67142 2.183   2.53386 2.7943  3.0155 ]\n"
     ]
    }
   ],
   "source": [
    "nUU = 12\n",
    "nIsland = 16\n",
    "nColorlessLand = 8\n",
    "nOther = 60 - nUU - nIsland - nColorlessLand\n",
    "nc = np.asarray([nOther, nIsland, nUU, nColorlessLand])\n",
    "nOpStrip = 4\n",
    "nOpOther = 60 - nOpStrip\n",
    "ncOp = np.asarray([nOpOther, nOpStrip])\n",
    "\n",
    "n_games = 100000\n",
    "max_turns = 6\n",
    "is_on_the_draw = False\n",
    "allow_mulligan = True\n",
    "\n",
    "(p_mana_screwed_on_turn, n_islands_after_turn) = play_games(n_games, max_turns, nc, ncOp, is_on_the_draw, allow_mulligan)\n",
    "\n",
    "print('P_mana_screw:')\n",
    "print(p_mana_screwed_on_turn)\n",
    "print('N_islands')\n",
    "print(n_islands_after_turn)"
   ]
  },
  {
   "cell_type": "markdown",
   "metadata": {},
   "source": [
    "# Swedish, on the play"
   ]
  },
  {
   "cell_type": "code",
   "execution_count": 4,
   "metadata": {},
   "outputs": [
    {
     "name": "stdout",
     "output_type": "stream",
     "text": [
      "P_mana_screw:\n",
      "[0.77192 0.10306 0.07091 0.05221 0.03785 0.02711]\n",
      "N_islands\n",
      "[0.98122 1.86466 2.55892 3.08929 3.5086  3.86183]\n"
     ]
    }
   ],
   "source": [
    "nUU = 12\n",
    "nIsland = 19\n",
    "nColorlessLand = 5\n",
    "nOther = 60 - nUU - nIsland - nColorlessLand\n",
    "nc = np.asarray([nOther, nIsland, nUU, nColorlessLand])\n",
    "nOpStrip = 1\n",
    "nOpOther = 60 - nOpStrip\n",
    "ncOp = np.asarray([nOpOther, nOpStrip])\n",
    "\n",
    "n_games = 100000\n",
    "max_turns = 6\n",
    "is_on_the_draw = False\n",
    "allow_mulligan = True\n",
    "\n",
    "(p_mana_screwed_on_turn, n_islands_after_turn) = play_games(n_games, max_turns, nc, ncOp, is_on_the_draw, allow_mulligan)\n",
    "\n",
    "print('P_mana_screw:')\n",
    "print(p_mana_screwed_on_turn)\n",
    "print('N_islands')\n",
    "print(n_islands_after_turn)"
   ]
  },
  {
   "cell_type": "markdown",
   "metadata": {},
   "source": [
    "# EC, on the draw"
   ]
  },
  {
   "cell_type": "code",
   "execution_count": 5,
   "metadata": {},
   "outputs": [
    {
     "name": "stdout",
     "output_type": "stream",
     "text": [
      "P_mana_screw:\n",
      "[0.81975 0.17797 0.13143 0.1137  0.09975 0.0867 ]\n",
      "N_islands\n",
      "[0.99715 1.78919 2.37639 2.79184 3.09182 3.32849]\n"
     ]
    }
   ],
   "source": [
    "nUU = 12\n",
    "nIsland = 16\n",
    "nColorlessLand = 8\n",
    "nOther = 60 - nUU - nIsland - nColorlessLand\n",
    "nc = np.asarray([nOther, nIsland, nUU, nColorlessLand])\n",
    "nOpStrip = 4\n",
    "nOpOther = 60 - nOpStrip\n",
    "ncOp = np.asarray([nOpOther, nOpStrip])\n",
    "\n",
    "n_games = 100000\n",
    "max_turns = 6\n",
    "is_on_the_draw = True\n",
    "allow_mulligan = True\n",
    "\n",
    "(p_mana_screwed_on_turn, n_islands_after_turn) = play_games(n_games, max_turns, nc, ncOp, is_on_the_draw, allow_mulligan)\n",
    "\n",
    "print('P_mana_screw:')\n",
    "print(p_mana_screwed_on_turn)\n",
    "print('N_islands')\n",
    "print(n_islands_after_turn)"
   ]
  },
  {
   "cell_type": "markdown",
   "metadata": {},
   "source": [
    "# Swedish, on the draw"
   ]
  },
  {
   "cell_type": "code",
   "execution_count": 6,
   "metadata": {},
   "outputs": [
    {
     "name": "stdout",
     "output_type": "stream",
     "text": [
      "P_mana_screw:\n",
      "[0.82495 0.07704 0.04893 0.0348  0.02488 0.01785]\n",
      "N_islands\n",
      "[0.99897 1.91461 2.68409 3.28974 3.76754 4.15775]\n"
     ]
    }
   ],
   "source": [
    "nUU = 12\n",
    "nIsland = 19\n",
    "nColorlessLand = 5\n",
    "nOther = 60 - nUU - nIsland - nColorlessLand\n",
    "nc = np.asarray([nOther, nIsland, nUU, nColorlessLand])\n",
    "nOpStrip = 1\n",
    "nOpOther = 60 - nOpStrip\n",
    "ncOp = np.asarray([nOpOther, nOpStrip])\n",
    "\n",
    "n_games = 100000\n",
    "max_turns = 6\n",
    "is_on_the_draw = True\n",
    "allow_mulligan = True\n",
    "\n",
    "(p_mana_screwed_on_turn, n_islands_after_turn) = play_games(n_games, max_turns, nc, ncOp, is_on_the_draw, allow_mulligan)\n",
    "\n",
    "print('P_mana_screw:')\n",
    "print(p_mana_screwed_on_turn)\n",
    "print('N_islands')\n",
    "print(n_islands_after_turn)"
   ]
  },
  {
   "cell_type": "markdown",
   "metadata": {},
   "source": [
    "# CE, on the play, no mulligan"
   ]
  },
  {
   "cell_type": "code",
   "execution_count": 7,
   "metadata": {},
   "outputs": [
    {
     "name": "stdout",
     "output_type": "stream",
     "text": [
      "P_mana_screw:\n",
      "[0.81019 0.32208 0.26552 0.22982 0.19901 0.17278]\n",
      "N_islands\n",
      "[0.83868 1.496   1.971   2.31307 2.57458 2.79557]\n"
     ]
    }
   ],
   "source": [
    "nUU = 12\n",
    "nIsland = 16\n",
    "nColorlessLand = 8\n",
    "nOther = 60 - nUU - nIsland - nColorlessLand\n",
    "nc = np.asarray([nOther, nIsland, nUU, nColorlessLand])\n",
    "nOpStrip = 4\n",
    "nOpOther = 60 - nOpStrip\n",
    "ncOp = np.asarray([nOpOther, nOpStrip])\n",
    "\n",
    "n_games = 100000\n",
    "max_turns = 6\n",
    "is_on_the_draw = False\n",
    "allow_mulligan = False\n",
    "\n",
    "(p_mana_screwed_on_turn, n_islands_after_turn) = play_games(n_games, max_turns, nc, ncOp, is_on_the_draw, allow_mulligan)\n",
    "\n",
    "print('P_mana_screw:')\n",
    "print(p_mana_screwed_on_turn)\n",
    "print('N_islands')\n",
    "print(n_islands_after_turn)"
   ]
  },
  {
   "cell_type": "markdown",
   "metadata": {},
   "source": [
    "# CE, on the play, no mulligan, analytical estimate for turn 2"
   ]
  },
  {
   "cell_type": "code",
   "execution_count": 8,
   "metadata": {},
   "outputs": [
    {
     "name": "stdout",
     "output_type": "stream",
     "text": [
      "Pstrip = 0.4448204087073323\n",
      "PUU = 0.8525185962049019\n",
      "P1Island = 0.24424096802822692\n",
      "P2Islands = 0.3438049376166948\n",
      "Pscrew = 0.33859687471226796\n"
     ]
    }
   ],
   "source": [
    "nUU = 12\n",
    "nIsland = 16\n",
    "nColorlessLand = 8\n",
    "nOpStrip = 4\n",
    "\n",
    "m = 1.\n",
    "for i in range(8):\n",
    "    m *= (60-nOpStrip-i)/(60.-i)\n",
    "Pstrip = 1. - m\n",
    "\n",
    "\n",
    "m = 1.\n",
    "for i in range(8):\n",
    "    m *= (60-nUU-i)/(60.-i)\n",
    "PUU = 1. - m\n",
    "\n",
    "m = 1.\n",
    "for i in range(7):\n",
    "    m *= (60-nIsland-i)/(60.-i)\n",
    "P1Island =  m * 8. * nIsland/52.\n",
    "\n",
    "m = 1.\n",
    "for i in range(6):\n",
    "    m *= (60-nIsland-i)/(60.-i)\n",
    "P2Islands =  m * 8 * 7. / 2. * (nIsland-1)/52. * nIsland/53.\n",
    "\n",
    "Pscrew = PUU * (P1Island + P2Islands * Pstrip)\n",
    "\n",
    "print('Pstrip = ' +str(Pstrip))\n",
    "print('PUU = ' +str(PUU))\n",
    "print('P1Island = ' +str(P1Island))\n",
    "print('P2Islands = ' +str(P2Islands))\n",
    "print('Pscrew = ' +str(Pscrew))\n"
   ]
  },
  {
   "cell_type": "code",
   "execution_count": 42,
   "metadata": {},
   "outputs": [
    {
     "data": {
      "image/png": "[encoded data removed]",
      "text/plain": [
       "<Figure size 432x288 with 1 Axes>"
      ]
     },
     "metadata": {
      "needs_background": "light"
     },
     "output_type": "display_data"
    },
    {
     "data": {
      "image/png": "[encoded data removed]",
      "text/plain": [
       "<Figure size 432x288 with 1 Axes>"
      ]
     },
     "metadata": {
      "needs_background": "light"
     },
     "output_type": "display_data"
    }
   ],
   "source": [
    "plt.rcParams.update({'font.size': 16})\n",
    "\n",
    "ind=np.asarray([1,2])\n",
    "EC_2=np.asarray([0.21307, 0.17797]) * 100.\n",
    "SW_2=np.asarray([0.10306, 0.07704]) * 100.\n",
    "EC_play = np.asarray([0.76828, 0.21307, 0.16746, 0.14579, 0.1278,  0.11226]) * 100.\n",
    "SW_play = np.asarray([0.77192, 0.10306, 0.07091, 0.05221, 0.03785, 0.02711]) * 100.\n",
    "width = 0.3\n",
    "\n",
    "plt.grid(zorder = 0)\n",
    "plt.gca().xaxis.grid(False)\n",
    "plt.bar(ind-width/2., EC_2, width, label='4 Strip Mines', zorder=3)\n",
    "plt.bar(ind+width/2., SW_2, width, label='1 Strip Mine', zorder=3)\n",
    "plt.legend(loc=9)\n",
    "plt.gca().set_xticks(ind)\n",
    "plt.gca().set_xticklabels(['On the play', 'On the draw'])\n",
    "plt.gca().set_ylabel('Probability (%)')\n",
    "plt.gca().set_title('Turn 2 mana screw probability')\n",
    "plt.tight_layout()\n",
    "plt.savefig('EC_vs_SW_turn2.jpg', dpi=100)\n",
    "plt.show()\n",
    "\n",
    "\n",
    "ind=np.asarray([2,3,4,5,6])\n",
    "plt.grid(zorder = 0)\n",
    "plt.gca().xaxis.grid(False)\n",
    "plt.bar(ind-width/2., EC_play[1:], width, label='4 Strip Mines', zorder=3)\n",
    "plt.bar(ind+width/2., SW_play[1:], width, label='1 Strip Mine', zorder=3)\n",
    "plt.legend(loc=9)\n",
    "plt.gca().set_xticks(ind)\n",
    "plt.gca().set_xticklabels(['Turn 2', 'Turn 3', 'Turn 4', 'Turn 5', 'Turn 6'])\n",
    "plt.gca().set_ylabel('Probability (%)')\n",
    "plt.gca().set_title('Mana screw probability on the play')\n",
    "plt.tight_layout()\n",
    "plt.savefig('EC_vs_SW_play.jpg', dpi=100)\n",
    "plt.show()"
   ]
  },
  {
   "cell_type": "code",
   "execution_count": null,
   "metadata": {},
   "outputs": [],
   "source": []
  }
 ],
 "metadata": {
  "kernelspec": {
   "display_name": "Python 3",
   "language": "python",
   "name": "python3"
  },
  "language_info": {
   "codemirror_mode": {
    "name": "ipython",
    "version": 3
   },
   "file_extension": ".py",
   "mimetype": "text/x-python",
   "name": "python",
   "nbconvert_exporter": "python",
   "pygments_lexer": "ipython3",
   "version": "3.6.6"
  }
 },
 "nbformat": 4,
 "nbformat_minor": 2
}
